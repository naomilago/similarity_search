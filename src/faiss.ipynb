{
 "cells": [
  {
   "attachments": {},
   "cell_type": "markdown",
   "metadata": {},
   "source": [
    "## FAISS\n",
    "\n",
    "This notebook provides a collection of real-world English text data specifically curated for practicing with FAISS (Facebook AI Similarity Search). FAISS is a powerful library for similarity search and clustering of dense vectors, commonly used in various applications like information retrieval, recommendation systems, and image search."
   ]
  },
  {
   "cell_type": "markdown",
   "metadata": {},
   "source": [
    "### Setting Up\n",
    "\n",
    "This session is inteded to import all the necessary libraries as well as importing the data and creating the indexes, starting with 0."
   ]
  },
  {
   "cell_type": "code",
   "execution_count": 2,
   "metadata": {},
   "outputs": [
    {
     "name": "stdout",
     "output_type": "stream",
     "text": [
      "Dataframe imported successfully with a shape of (280, 2) 🎉\n",
      "ID starting with zero!\n"
     ]
    },
    {
     "data": {
      "text/html": [
       "<div>\n",
       "<style scoped>\n",
       "    .dataframe tbody tr th:only-of-type {\n",
       "        vertical-align: middle;\n",
       "    }\n",
       "\n",
       "    .dataframe tbody tr th {\n",
       "        vertical-align: top;\n",
       "    }\n",
       "\n",
       "    .dataframe thead th {\n",
       "        text-align: right;\n",
       "    }\n",
       "</style>\n",
       "<table border=\"1\" class=\"dataframe\">\n",
       "  <thead>\n",
       "    <tr style=\"text-align: right;\">\n",
       "      <th></th>\n",
       "      <th>text</th>\n",
       "      <th>id</th>\n",
       "    </tr>\n",
       "  </thead>\n",
       "  <tbody>\n",
       "    <tr>\n",
       "      <th>0</th>\n",
       "      <td>The COVID-19 pandemic has had a significant im...</td>\n",
       "      <td>0</td>\n",
       "    </tr>\n",
       "    <tr>\n",
       "      <th>1</th>\n",
       "      <td>Artificial intelligence is transforming variou...</td>\n",
       "      <td>1</td>\n",
       "    </tr>\n",
       "    <tr>\n",
       "      <th>2</th>\n",
       "      <td>Social media platforms play a crucial role in ...</td>\n",
       "      <td>2</td>\n",
       "    </tr>\n",
       "    <tr>\n",
       "      <th>3</th>\n",
       "      <td>Renewable energy sources like solar and wind p...</td>\n",
       "      <td>3</td>\n",
       "    </tr>\n",
       "    <tr>\n",
       "      <th>4</th>\n",
       "      <td>Cryptocurrencies such as Bitcoin have gained w...</td>\n",
       "      <td>4</td>\n",
       "    </tr>\n",
       "  </tbody>\n",
       "</table>\n",
       "</div>"
      ],
      "text/plain": [
       "                                                text  id\n",
       "0  The COVID-19 pandemic has had a significant im...   0\n",
       "1  Artificial intelligence is transforming variou...   1\n",
       "2  Social media platforms play a crucial role in ...   2\n",
       "3  Renewable energy sources like solar and wind p...   3\n",
       "4  Cryptocurrencies such as Bitcoin have gained w...   4"
      ]
     },
     "metadata": {},
     "output_type": "display_data"
    }
   ],
   "source": [
    "from sentence_transformers import SentenceTransformer\n",
    "from sentence_transformers import InputExample\n",
    "import pandas as pd\n",
    "import numpy as np\n",
    "import faiss\n",
    "\n",
    "df = pd.read_csv('../data/similarity_search.csv')\n",
    "\n",
    "df = df[['text', 'id']]\n",
    "\n",
    "if len(df) != 0:\n",
    "  print(f'Dataframe imported successfully with a shape of {df.shape} 🎉')\n",
    "  \n",
    "if df.id.min() == 1:\n",
    "  df.id = df.id.apply(lambda x: x-1)\n",
    "elif df.id.min() == 0:\n",
    "  print('ID starting with zero!')\n",
    "\n",
    "display(df.head(5))"
   ]
  },
  {
   "cell_type": "markdown",
   "metadata": {},
   "source": [
    "### Vectorize text into embedding vectors\n",
    "\n",
    "Now that we have our data, I'll be using SentenceTransformer to load a language model to vectorize our texts to embeddings."
   ]
  },
  {
   "cell_type": "code",
   "execution_count": 9,
   "metadata": {},
   "outputs": [
    {
     "name": "stderr",
     "output_type": "stream",
     "text": [
      "Downloading (…)7e0d5/.gitattributes: 100%|██████████| 345/345 [00:00<00:00, 1.23MB/s]"
     ]
    },
    {
     "name": "stderr",
     "output_type": "stream",
     "text": [
      "\n",
      "Downloading (…)_Pooling/config.json: 100%|██████████| 190/190 [00:00<00:00, 535kB/s]\n",
      "Downloading (…)0e5ca7e0d5/README.md: 100%|██████████| 4.01k/4.01k [00:00<00:00, 12.8MB/s]\n",
      "Downloading (…)5ca7e0d5/config.json: 100%|██████████| 555/555 [00:00<00:00, 1.33MB/s]\n",
      "Downloading (…)ce_transformers.json: 100%|██████████| 122/122 [00:00<00:00, 373kB/s]\n",
      "Downloading pytorch_model.bin: 100%|██████████| 265M/265M [00:04<00:00, 62.2MB/s] \n",
      "Downloading (…)nce_bert_config.json: 100%|██████████| 53.0/53.0 [00:00<00:00, 181kB/s]\n",
      "Downloading (…)cial_tokens_map.json: 100%|██████████| 112/112 [00:00<00:00, 473kB/s]\n",
      "Downloading (…)7e0d5/tokenizer.json: 100%|██████████| 466k/466k [00:00<00:00, 22.2MB/s]\n",
      "Downloading (…)okenizer_config.json: 100%|██████████| 505/505 [00:00<00:00, 1.94MB/s]\n",
      "Downloading (…)0e5ca7e0d5/vocab.txt: 100%|██████████| 232k/232k [00:00<00:00, 140MB/s]\n",
      "Downloading (…)ca7e0d5/modules.json: 100%|██████████| 229/229 [00:00<00:00, 861kB/s]\n"
     ]
    }
   ],
   "source": [
    "model = SentenceTransformer(\n",
    "  'distilbert-base-nli-stsb-mean-tokens', \n",
    "  device='cpu',\n",
    "  cache_folder='../data/cache/'\n",
    ")"
   ]
  },
  {
   "cell_type": "code",
   "execution_count": 13,
   "metadata": {},
   "outputs": [
    {
     "data": {
      "text/plain": [
       "['The COVID-19 pandemic has had a significant impact on global economies.',\n",
       " 'Artificial intelligence is transforming various industries, including healthcare and finance.',\n",
       " 'Social media platforms play a crucial role in connecting people around the world.',\n",
       " 'Renewable energy sources like solar and wind power are essential for a sustainable future.',\n",
       " 'Cryptocurrencies such as Bitcoin have gained widespread attention and adoption.']"
      ]
     },
     "execution_count": 13,
     "metadata": {},
     "output_type": "execute_result"
    }
   ],
   "source": [
    "texts = df.text.values.tolist()\n",
    "texts[:5]"
   ]
  },
  {
   "cell_type": "code",
   "execution_count": 16,
   "metadata": {},
   "outputs": [
    {
     "data": {
      "text/plain": [
       "array([[ 0.947502  , -1.0846487 , -0.2284832 , ..., -0.06836055,\n",
       "        -0.14919937,  0.66071904],\n",
       "       [ 0.28361663, -0.1461976 ,  0.76421636, ..., -0.09583422,\n",
       "        -0.00354805,  0.03140324],\n",
       "       [ 0.04713582, -0.09198026,  0.03990472, ..., -0.05552263,\n",
       "        -1.0880418 , -0.33173525]], dtype=float32)"
      ]
     },
     "execution_count": 16,
     "metadata": {},
     "output_type": "execute_result"
    }
   ],
   "source": [
    "embeddings = model.encode(texts)\n",
    "embeddings[:3]"
   ]
  },
  {
   "cell_type": "markdown",
   "metadata": {},
   "source": [
    "### Saving the embeddings to FAISS index\n",
    "\n",
    "Now that we have our embeddings, I'll be creating the FAISS index based on them in order to add them - normalizing meanwhile."
   ]
  },
  {
   "cell_type": "code",
   "execution_count": 37,
   "metadata": {},
   "outputs": [],
   "source": [
    "df_to_index = df.set_index([\"id\"], drop=False)\n",
    "id_index = np.array(df_to_index.id.values).flatten().astype(\"int\")\n",
    "\n",
    "normalized_embeddings = embeddings.copy()\n",
    "faiss.normalize_L2(normalized_embeddings)\n",
    "index_flat = faiss.IndexFlatIP(len(embeddings[0]))"
   ]
  },
  {
   "cell_type": "code",
   "execution_count": 38,
   "metadata": {},
   "outputs": [],
   "source": [
    "index_content = faiss.IndexIDMap(index_flat)\n",
    "index_content.add_with_ids(normalized_embeddings, id_index)"
   ]
  },
  {
   "cell_type": "markdown",
   "metadata": {},
   "source": [
    "### Defining the query function\n",
    "\n",
    "In order to search contents, we need to perform the preprocessing as we did before - including the SentenceTransformer and normalization. Let's create a function to handle this."
   ]
  },
  {
   "cell_type": "code",
   "execution_count": 53,
   "metadata": {},
   "outputs": [],
   "source": [
    "def search(query: str, k: int = 5) -> pd.core.frame.DataFrame:\n",
    "  vector = model.encode([query])\n",
    "  faiss.normalize_L2(vector)\n",
    "  \n",
    "  top_k = index_content.search(vector, k)\n",
    "  ids = top_k[1][0].tolist()\n",
    "  similarities = top_k[0][0].tolist()\n",
    "  \n",
    "  print(f'Query: {query}')\n",
    "    \n",
    "  results = df_to_index.loc[ids]\n",
    "  results['similarity'] = similarities\n",
    "  \n",
    "  return results.reset_index(drop=True)"
   ]
  },
  {
   "cell_type": "markdown",
   "metadata": {},
   "source": [
    "### Querying\n",
    "\n",
    "Alright. If I did all correctly, it should return related texts for us :)"
   ]
  },
  {
   "cell_type": "code",
   "execution_count": 54,
   "metadata": {},
   "outputs": [
    {
     "name": "stdout",
     "output_type": "stream",
     "text": [
      "Query: I want to buy a car\n"
     ]
    },
    {
     "data": {
      "text/html": [
       "<div>\n",
       "<style scoped>\n",
       "    .dataframe tbody tr th:only-of-type {\n",
       "        vertical-align: middle;\n",
       "    }\n",
       "\n",
       "    .dataframe tbody tr th {\n",
       "        vertical-align: top;\n",
       "    }\n",
       "\n",
       "    .dataframe thead th {\n",
       "        text-align: right;\n",
       "    }\n",
       "</style>\n",
       "<table border=\"1\" class=\"dataframe\">\n",
       "  <thead>\n",
       "    <tr style=\"text-align: right;\">\n",
       "      <th></th>\n",
       "      <th>id</th>\n",
       "      <th>text</th>\n",
       "      <th>similarity</th>\n",
       "    </tr>\n",
       "  </thead>\n",
       "  <tbody>\n",
       "    <tr>\n",
       "      <th>0</th>\n",
       "      <td>267</td>\n",
       "      <td>The potential of 3D printing in the automotive...</td>\n",
       "      <td>0.238573</td>\n",
       "    </tr>\n",
       "    <tr>\n",
       "      <th>1</th>\n",
       "      <td>69</td>\n",
       "      <td>The development of smart cities requires colla...</td>\n",
       "      <td>0.238199</td>\n",
       "    </tr>\n",
       "    <tr>\n",
       "      <th>2</th>\n",
       "      <td>73</td>\n",
       "      <td>The future of transportation lies in autonomou...</td>\n",
       "      <td>0.207966</td>\n",
       "    </tr>\n",
       "  </tbody>\n",
       "</table>\n",
       "</div>"
      ],
      "text/plain": [
       "    id                                               text  similarity\n",
       "0  267  The potential of 3D printing in the automotive...    0.238573\n",
       "1   69  The development of smart cities requires colla...    0.238199\n",
       "2   73  The future of transportation lies in autonomou...    0.207966"
      ]
     },
     "execution_count": 54,
     "metadata": {},
     "output_type": "execute_result"
    }
   ],
   "source": [
    "search('I want to buy a car', 3)[['id', 'text', 'similarity']]"
   ]
  },
  {
   "cell_type": "code",
   "execution_count": 55,
   "metadata": {},
   "outputs": [
    {
     "name": "stdout",
     "output_type": "stream",
     "text": [
      "Query: Artificial Intelligence\n"
     ]
    },
    {
     "data": {
      "text/html": [
       "<div>\n",
       "<style scoped>\n",
       "    .dataframe tbody tr th:only-of-type {\n",
       "        vertical-align: middle;\n",
       "    }\n",
       "\n",
       "    .dataframe tbody tr th {\n",
       "        vertical-align: top;\n",
       "    }\n",
       "\n",
       "    .dataframe thead th {\n",
       "        text-align: right;\n",
       "    }\n",
       "</style>\n",
       "<table border=\"1\" class=\"dataframe\">\n",
       "  <thead>\n",
       "    <tr style=\"text-align: right;\">\n",
       "      <th></th>\n",
       "      <th>id</th>\n",
       "      <th>text</th>\n",
       "      <th>similarity</th>\n",
       "    </tr>\n",
       "  </thead>\n",
       "  <tbody>\n",
       "    <tr>\n",
       "      <th>0</th>\n",
       "      <td>1</td>\n",
       "      <td>Artificial intelligence is transforming variou...</td>\n",
       "      <td>0.605489</td>\n",
       "    </tr>\n",
       "    <tr>\n",
       "      <th>1</th>\n",
       "      <td>159</td>\n",
       "      <td>The impact of automation on the transportation...</td>\n",
       "      <td>0.584801</td>\n",
       "    </tr>\n",
       "    <tr>\n",
       "      <th>2</th>\n",
       "      <td>250</td>\n",
       "      <td>The impact of automation on the entertainment ...</td>\n",
       "      <td>0.579470</td>\n",
       "    </tr>\n",
       "  </tbody>\n",
       "</table>\n",
       "</div>"
      ],
      "text/plain": [
       "    id                                               text  similarity\n",
       "0    1  Artificial intelligence is transforming variou...    0.605489\n",
       "1  159  The impact of automation on the transportation...    0.584801\n",
       "2  250  The impact of automation on the entertainment ...    0.579470"
      ]
     },
     "execution_count": 55,
     "metadata": {},
     "output_type": "execute_result"
    }
   ],
   "source": [
    "search('Artificial Intelligence', 3)[['id', 'text', 'similarity']]"
   ]
  },
  {
   "cell_type": "code",
   "execution_count": 59,
   "metadata": {},
   "outputs": [
    {
     "name": "stdout",
     "output_type": "stream",
     "text": [
      "Query: Diversity is important\n"
     ]
    },
    {
     "data": {
      "text/html": [
       "<div>\n",
       "<style scoped>\n",
       "    .dataframe tbody tr th:only-of-type {\n",
       "        vertical-align: middle;\n",
       "    }\n",
       "\n",
       "    .dataframe tbody tr th {\n",
       "        vertical-align: top;\n",
       "    }\n",
       "\n",
       "    .dataframe thead th {\n",
       "        text-align: right;\n",
       "    }\n",
       "</style>\n",
       "<table border=\"1\" class=\"dataframe\">\n",
       "  <thead>\n",
       "    <tr style=\"text-align: right;\">\n",
       "      <th></th>\n",
       "      <th>id</th>\n",
       "      <th>text</th>\n",
       "      <th>similarity</th>\n",
       "    </tr>\n",
       "  </thead>\n",
       "  <tbody>\n",
       "    <tr>\n",
       "      <th>0</th>\n",
       "      <td>23</td>\n",
       "      <td>The importance of diversity and inclusion in o...</td>\n",
       "      <td>0.599246</td>\n",
       "    </tr>\n",
       "    <tr>\n",
       "      <th>1</th>\n",
       "      <td>88</td>\n",
       "      <td>The need for accessible and inclusive design i...</td>\n",
       "      <td>0.534014</td>\n",
       "    </tr>\n",
       "    <tr>\n",
       "      <th>2</th>\n",
       "      <td>67</td>\n",
       "      <td>The exploration of deep-sea ecosystems reveals...</td>\n",
       "      <td>0.526486</td>\n",
       "    </tr>\n",
       "    <tr>\n",
       "      <th>3</th>\n",
       "      <td>64</td>\n",
       "      <td>The ethical implications of gene editing and C...</td>\n",
       "      <td>0.479641</td>\n",
       "    </tr>\n",
       "    <tr>\n",
       "      <th>4</th>\n",
       "      <td>155</td>\n",
       "      <td>The potential of genetic engineering in agricu...</td>\n",
       "      <td>0.475088</td>\n",
       "    </tr>\n",
       "  </tbody>\n",
       "</table>\n",
       "</div>"
      ],
      "text/plain": [
       "    id                                               text  similarity\n",
       "0   23  The importance of diversity and inclusion in o...    0.599246\n",
       "1   88  The need for accessible and inclusive design i...    0.534014\n",
       "2   67  The exploration of deep-sea ecosystems reveals...    0.526486\n",
       "3   64  The ethical implications of gene editing and C...    0.479641\n",
       "4  155  The potential of genetic engineering in agricu...    0.475088"
      ]
     },
     "execution_count": 59,
     "metadata": {},
     "output_type": "execute_result"
    }
   ],
   "source": [
    "search('Diversity is important', 5)[['id', 'text', 'similarity']]"
   ]
  }
 ],
 "metadata": {
  "kernelspec": {
   "display_name": ".venv",
   "language": "python",
   "name": "python3"
  },
  "language_info": {
   "codemirror_mode": {
    "name": "ipython",
    "version": 3
   },
   "file_extension": ".py",
   "mimetype": "text/x-python",
   "name": "python",
   "nbconvert_exporter": "python",
   "pygments_lexer": "ipython3",
   "version": "3.10.8"
  },
  "orig_nbformat": 4
 },
 "nbformat": 4,
 "nbformat_minor": 2
}
